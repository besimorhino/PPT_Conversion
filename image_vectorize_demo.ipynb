{
  "nbformat": 4,
  "nbformat_minor": 0,
  "metadata": {
    "colab": {
      "provenance": [],
      "authorship_tag": "ABX9TyOknGSN5z/YU/MukCithVz8",
      "include_colab_link": true
    },
    "kernelspec": {
      "name": "python3",
      "display_name": "Python 3"
    },
    "language_info": {
      "name": "python"
    }
  },
  "cells": [
    {
      "cell_type": "markdown",
      "metadata": {
        "id": "view-in-github",
        "colab_type": "text"
      },
      "source": [
        "<a href=\"https://colab.research.google.com/github/besimorhino/PPT_Conversion/blob/main/image_vectorize_demo.ipynb\" target=\"_parent\"><img src=\"https://colab.research.google.com/assets/colab-badge.svg\" alt=\"Open In Colab\"/></a>"
      ]
    },
    {
      "cell_type": "code",
      "execution_count": null,
      "metadata": {
        "id": "hywcJUE7i-vD"
      },
      "outputs": [],
      "source": [
        "# Cell 1: Install dependencies\n",
        "!pip install -q torchvision matplotlib scikit-learn pillow"
      ]
    },
    {
      "cell_type": "code",
      "source": [
        "# Cell 2: Imports\n",
        "import torch\n",
        "import torchvision.transforms as transforms\n",
        "import torchvision.models as models\n",
        "from sklearn.metrics.pairwise import cosine_similarity\n",
        "from sklearn.decomposition import PCA\n",
        "import matplotlib.pyplot as plt\n",
        "from PIL import Image, UnidentifiedImageError\n",
        "import requests\n",
        "from io import BytesIO\n",
        "import numpy as np"
      ],
      "metadata": {
        "id": "8QyKpvsMjCIh"
      },
      "execution_count": null,
      "outputs": []
    },
    {
      "cell_type": "code",
      "source": [
        "# Cell 3: Load pretrained model (ResNet50, remove final classification layer)\n",
        "model = models.resnet50(pretrained=True)\n",
        "model.eval()\n",
        "feature_extractor = torch.nn.Sequential(*list(model.children())[:-1])"
      ],
      "metadata": {
        "id": "WkMBdPWXjEri",
        "colab": {
          "base_uri": "https://localhost:8080/"
        },
        "outputId": "9714d1b6-02f9-445a-9d75-593983dd8bf7"
      },
      "execution_count": null,
      "outputs": [
        {
          "output_type": "stream",
          "name": "stderr",
          "text": [
            "/usr/local/lib/python3.12/dist-packages/torchvision/models/_utils.py:208: UserWarning: The parameter 'pretrained' is deprecated since 0.13 and may be removed in the future, please use 'weights' instead.\n",
            "  warnings.warn(\n",
            "/usr/local/lib/python3.12/dist-packages/torchvision/models/_utils.py:223: UserWarning: Arguments other than a weight enum or `None` for 'weights' are deprecated since 0.13 and may be removed in the future. The current behavior is equivalent to passing `weights=ResNet50_Weights.IMAGENET1K_V1`. You can also use `weights=ResNet50_Weights.DEFAULT` to get the most up-to-date weights.\n",
            "  warnings.warn(msg)\n"
          ]
        }
      ]
    },
    {
      "cell_type": "code",
      "source": [
        "# Cell 4: Define image transform\n",
        "transform = transforms.Compose([\n",
        "    transforms.Resize(256),\n",
        "    transforms.CenterCrop(224),\n",
        "    transforms.ToTensor(),\n",
        "    transforms.Normalize(mean=[0.485, 0.456, 0.406], std=[0.229, 0.224, 0.225]),\n",
        "])"
      ],
      "metadata": {
        "id": "DybFBMUjjGbJ"
      },
      "execution_count": null,
      "outputs": []
    },
    {
      "cell_type": "code",
      "source": [
        "# Cell 5: Load some images (you can modify or upload your own, jpg only though)\n",
        "# note: some sites may prevent your workbook from accessing\n",
        "image_urls = [\n",
        "    \"https://upload.wikimedia.org/wikipedia/commons/b/b6/Felis_catus-cat_on_snow.jpg\",             # cat\n",
        "    \"https://upload.wikimedia.org/wikipedia/commons/3/3a/Cat03.jpg\",                               # another cat\n",
        "    \"https://upload.wikimedia.org/wikipedia/commons/thumb/5/55/Viceroy_Butterfly.jpg/960px-Viceroy_Butterfly.jpg\" # butterfly\n",
        "]"
      ],
      "metadata": {
        "id": "SJe5MIqijH5e"
      },
      "execution_count": null,
      "outputs": []
    },
    {
      "cell_type": "code",
      "source": [
        "# Cell 6: Load and process images\n",
        "import os\n",
        "import tempfile\n",
        "\n",
        "images = []\n",
        "tensors = []\n",
        "\n",
        "for url in image_urls:\n",
        "    try:\n",
        "        response = requests.get(url)\n",
        "        response.raise_for_status() # Raise an exception for bad status codes\n",
        "\n",
        "        # Save to a temporary file to help diagnose issues\n",
        "        with tempfile.NamedTemporaryFile(delete=False, suffix=\".jpg\") as tmp_file:\n",
        "            tmp_file.write(response.content)\n",
        "            tmp_file_path = tmp_file.name\n",
        "\n",
        "        try:\n",
        "            img = Image.open(tmp_file_path).convert('RGB')\n",
        "            images.append(img)\n",
        "            tensors.append(transform(img))\n",
        "            print(f\"Successfully loaded image from URL: {url}\")\n",
        "        finally:\n",
        "            # Clean up the temporary file\n",
        "            os.unlink(tmp_file_path)\n",
        "\n",
        "    except UnidentifiedImageError:\n",
        "        print(f\"Could not identify image format from URL: {url}. The downloaded content might not be a valid image or in a supported format.\")\n",
        "    except requests.exceptions.RequestException as e:\n",
        "        print(f\"Error fetching image from URL: {url}: {e}\")\n",
        "    except Exception as e:\n",
        "        print(f\"An unexpected error occurred while processing {url}: {e}\")\n",
        "\n",
        "if not tensors:\n",
        "    print(\"No images were successfully loaded. Please ensure the URLs are correct and point to valid image files.\")\n",
        "else:\n",
        "    batch = torch.stack(tensors)"
      ],
      "metadata": {
        "id": "I1qAMBzfjKG1",
        "colab": {
          "base_uri": "https://localhost:8080/"
        },
        "outputId": "4457951b-4933-4c04-d261-908e74600ea5"
      },
      "execution_count": null,
      "outputs": [
        {
          "output_type": "stream",
          "name": "stdout",
          "text": [
            "Error fetching image from URL: https://upload.wikimedia.org/wikipedia/commons/b/b6/Felis_catus-cat_on_snow.jpg: 403 Client Error: Forbidden for url: https://upload.wikimedia.org/wikipedia/commons/b/b6/Felis_catus-cat_on_snow.jpg\n",
            "Error fetching image from URL: https://upload.wikimedia.org/wikipedia/commons/3/3a/Cat03.jpg: 403 Client Error: Forbidden for url: https://upload.wikimedia.org/wikipedia/commons/3/3a/Cat03.jpg\n",
            "Error fetching image from URL: https://upload.wikimedia.org/wikipedia/commons/thumb/5/55/Viceroy_Butterfly.jpg/960px-Viceroy_Butterfly.jpg: 403 Client Error: Forbidden for url: https://upload.wikimedia.org/wikipedia/commons/thumb/5/55/Viceroy_Butterfly.jpg/960px-Viceroy_Butterfly.jpg\n",
            "No images were successfully loaded. Please ensure the URLs are correct and point to valid image files.\n"
          ]
        }
      ]
    },
    {
      "cell_type": "markdown",
      "source": [
        "# checkpoint!\n",
        "If you get a message that no images were successfully loaded, go back and verify they are accessible."
      ],
      "metadata": {
        "id": "IeiZ3NB2LJvu"
      }
    },
    {
      "cell_type": "code",
      "source": [
        "# Cell 7: Extract vectors\n",
        "with torch.no_grad():\n",
        "    features = feature_extractor(batch).squeeze()\n",
        "\n",
        "vectors = features.numpy()\n"
      ],
      "metadata": {
        "id": "wIN-iRL4jMIZ",
        "colab": {
          "base_uri": "https://localhost:8080/",
          "height": 211
        },
        "outputId": "7a933f9c-0908-48b3-a407-06a57517e9d1"
      },
      "execution_count": null,
      "outputs": [
        {
          "output_type": "error",
          "ename": "NameError",
          "evalue": "name 'batch' is not defined",
          "traceback": [
            "\u001b[0;31m---------------------------------------------------------------------------\u001b[0m",
            "\u001b[0;31mNameError\u001b[0m                                 Traceback (most recent call last)",
            "\u001b[0;32m/tmp/ipython-input-284247001.py\u001b[0m in \u001b[0;36m<cell line: 0>\u001b[0;34m()\u001b[0m\n\u001b[1;32m      1\u001b[0m \u001b[0;31m# Cell 7: Extract vectors\u001b[0m\u001b[0;34m\u001b[0m\u001b[0;34m\u001b[0m\u001b[0m\n\u001b[1;32m      2\u001b[0m \u001b[0;32mwith\u001b[0m \u001b[0mtorch\u001b[0m\u001b[0;34m.\u001b[0m\u001b[0mno_grad\u001b[0m\u001b[0;34m(\u001b[0m\u001b[0;34m)\u001b[0m\u001b[0;34m:\u001b[0m\u001b[0;34m\u001b[0m\u001b[0;34m\u001b[0m\u001b[0m\n\u001b[0;32m----> 3\u001b[0;31m     \u001b[0mfeatures\u001b[0m \u001b[0;34m=\u001b[0m \u001b[0mfeature_extractor\u001b[0m\u001b[0;34m(\u001b[0m\u001b[0mbatch\u001b[0m\u001b[0;34m)\u001b[0m\u001b[0;34m.\u001b[0m\u001b[0msqueeze\u001b[0m\u001b[0;34m(\u001b[0m\u001b[0;34m)\u001b[0m\u001b[0;34m\u001b[0m\u001b[0;34m\u001b[0m\u001b[0m\n\u001b[0m\u001b[1;32m      4\u001b[0m \u001b[0;34m\u001b[0m\u001b[0m\n\u001b[1;32m      5\u001b[0m \u001b[0mvectors\u001b[0m \u001b[0;34m=\u001b[0m \u001b[0mfeatures\u001b[0m\u001b[0;34m.\u001b[0m\u001b[0mnumpy\u001b[0m\u001b[0;34m(\u001b[0m\u001b[0;34m)\u001b[0m\u001b[0;34m\u001b[0m\u001b[0;34m\u001b[0m\u001b[0m\n",
            "\u001b[0;31mNameError\u001b[0m: name 'batch' is not defined"
          ]
        }
      ]
    },
    {
      "cell_type": "code",
      "source": [
        "# Cell 8: Cosine similarity matrix\n",
        "similarities = cosine_similarity(vectors)\n",
        "import pandas as pd\n",
        "df = pd.DataFrame(similarities)\n",
        "df.style.background_gradient(cmap='Blues')\n"
      ],
      "metadata": {
        "id": "muHGgyoyjN2Q"
      },
      "execution_count": null,
      "outputs": []
    },
    {
      "cell_type": "code",
      "source": [
        "# Cell 9: Visualize in 2D\n",
        "pca = PCA(n_components=2)\n",
        "reduced = pca.fit_transform(vectors)\n",
        "\n",
        "plt.figure(figsize=(10, 6))\n",
        "for i, (x, y) in enumerate(reduced):\n",
        "    plt.scatter(x, y)\n",
        "    #plt.text(x + 1, y + 1, \"Image {i+1}\\\", fontsize=9)\n",
        "plt.title(\"Image Embeddings in 2D Space (via PCA)\")\n",
        "plt.grid(True)\n",
        "plt.show()\n"
      ],
      "metadata": {
        "id": "22LmJh8ujPpv"
      },
      "execution_count": null,
      "outputs": []
    },
    {
      "cell_type": "code",
      "source": [
        "# Cell 10: Show images side-by-side\n",
        "plt.figure(figsize=(15, 3))\n",
        "for i, img in enumerate(images):\n",
        "    plt.subplot(1, len(images), i+1)\n",
        "    plt.imshow(img)\n",
        "    plt.axis('off')\n",
        "    plt.title(\"Image {i+1}\")\n",
        "plt.show()\n"
      ],
      "metadata": {
        "id": "1ZndNE3DjScB"
      },
      "execution_count": null,
      "outputs": []
    }
  ]
}